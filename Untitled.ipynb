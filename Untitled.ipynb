{
 "cells": [
  {
   "cell_type": "code",
   "execution_count": 82,
   "id": "fa741b20",
   "metadata": {},
   "outputs": [],
   "source": [
    "# parameters\n",
    "average_game_length = 360 # in seconds\n",
    "average_number_of_turns_in_game = 30\n",
    "number_of_tours_in_tournament = 8 # 6 = blue card, 7 = golden deck, 8 = Sunny City cup\n",
    "iterations_to_run = 10000"
   ]
  },
  {
   "cell_type": "code",
   "execution_count": 83,
   "id": "7b0683ea",
   "metadata": {},
   "outputs": [],
   "source": [
    "import numpy as np\n",
    "average_turn_length = average_game_length/average_number_of_turns_in_game\n",
    "def get_games_length():\n",
    "    return [min(i,600)*average_turn_length for i in np.random.poisson(lam = average_number_of_turns_in_game, \n",
    "                                                             size = 2**number_of_tours_in_tournament-1)]\n",
    "# get_games_length()"
   ]
  },
  {
   "cell_type": "code",
   "execution_count": 84,
   "id": "f492d1fb",
   "metadata": {},
   "outputs": [],
   "source": [
    "def run_tournament():\n",
    "    games_len = get_games_length()\n",
    "    tour_scheme = [[games_len[2**i-1+j] for j in range(2**i)] for i in range(number_of_tours_in_tournament)]\n",
    "    return tour_scheme[::-1]\n",
    "\n",
    "# run_tournament()"
   ]
  },
  {
   "cell_type": "code",
   "execution_count": 85,
   "id": "fa0d5bc9",
   "metadata": {},
   "outputs": [],
   "source": [
    "# for debug purposes:\n",
    "def print_as_tree(t):\n",
    "    for i in range(2**(number_of_tours_in_tournament-1)):\n",
    "        s = \"\"\n",
    "        for j in range (number_of_tours_in_tournament):\n",
    "            if i%(2**j) == 0:\n",
    "                s += (str(t[j][i//(2**j)])+\"\\t\")\n",
    "        print(s)\n",
    "    print(\"---------\")"
   ]
  },
  {
   "cell_type": "code",
   "execution_count": 86,
   "id": "e0521e86",
   "metadata": {},
   "outputs": [],
   "source": [
    "def count_idle_time(t, verbose = False):\n",
    "    if verbose:\n",
    "        print_as_tree(t)\n",
    "    t1 = t.copy()\n",
    "    t2 = t1.copy()\n",
    "    idle = [0,0]\n",
    "    for i in range(number_of_tours_in_tournament-1):\n",
    "        t2[i]=sorted(t2[i])\n",
    "    \n",
    "    for i in range(number_of_tours_in_tournament-1):\n",
    "        for j in range(2**(number_of_tours_in_tournament-i-2)):\n",
    "            # predecided:\n",
    "            delta = abs(t1[i][2*j]-t1[i][2*j+1])\n",
    "            t1[i+1][j] += max(t1[i][2*j],t1[i][2*j+1])\n",
    "            idle[0] += delta\n",
    "            # follow-by:\n",
    "            delta = abs(t2[i][2*j]-t2[i][2*j+1])\n",
    "            t2[i+1][j] += max(t2[i][2*j],t2[i][2*j+1])\n",
    "            idle[1] += delta\n",
    "    if verbose:\n",
    "        print_as_tree(t1)\n",
    "        print_as_tree(t2)\n",
    "    return idle\n",
    "\n",
    "# count_idle_time(run_tournament())"
   ]
  },
  {
   "cell_type": "code",
   "execution_count": 87,
   "id": "da4bcbc5",
   "metadata": {},
   "outputs": [],
   "source": [
    "# testing hypothesis\n",
    "import pandas as pd\n",
    "from scipy import stats\n",
    "delays = pd.DataFrame({'method':[], 'idle':[]})\n",
    "for i in range(iterations_to_run):\n",
    "    vals = count_idle_time(run_tournament())\n",
    "    delays.loc[len(delays.index)] = ['predecided', vals[0]]\n",
    "    delays.loc[len(delays.index)] = ['follow-by', vals[1]]\n",
    "\n",
    "group1 = delays[delays['method']=='predecided']\n",
    "group2 = delays[delays['method']=='follow-by']   "
   ]
  },
  {
   "cell_type": "code",
   "execution_count": 88,
   "id": "4ad2a488",
   "metadata": {},
   "outputs": [
    {
     "data": {
      "text/plain": [
       "Ttest_indResult(statistic=767.5662429310256, pvalue=0.0)"
      ]
     },
     "execution_count": 88,
     "metadata": {},
     "output_type": "execute_result"
    }
   ],
   "source": [
    "#perform Welch's t-test\n",
    "stats.ttest_ind(group1['idle'], group2['idle'], equal_var= False )    "
   ]
  },
  {
   "cell_type": "code",
   "execution_count": 81,
   "id": "76f2d555",
   "metadata": {},
   "outputs": [
    {
     "data": {
      "text/plain": [
       "follow-by          AxesSubplot(0.1,0.15;0.363636x0.75)\n",
       "predecided    AxesSubplot(0.536364,0.15;0.363636x0.75)\n",
       "dtype: object"
      ]
     },
     "execution_count": 81,
     "metadata": {},
     "output_type": "execute_result"
    },
    {
     "data": {
      "image/png": "[encoded data removed]",
      "text/plain": [
       "<Figure size 640x480 with 2 Axes>"
      ]
     },
     "metadata": {},
     "output_type": "display_data"
    }
   ],
   "source": [
    "delays.groupby('method').boxplot()"
   ]
  }
 ],
 "metadata": {
  "kernelspec": {
   "display_name": "Python 3 (ipykernel)",
   "language": "python",
   "name": "python3"
  },
  "language_info": {
   "codemirror_mode": {
    "name": "ipython",
    "version": 3
   },
   "file_extension": ".py",
   "mimetype": "text/x-python",
   "name": "python",
   "nbconvert_exporter": "python",
   "pygments_lexer": "ipython3",
   "version": "3.10.6"
  }
 },
 "nbformat": 4,
 "nbformat_minor": 5
}
